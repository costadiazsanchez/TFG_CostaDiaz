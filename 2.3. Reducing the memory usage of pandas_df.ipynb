{
 "cells": [
  {
   "cell_type": "code",
   "execution_count": 3,
   "id": "89c0efe9",
   "metadata": {},
   "outputs": [
    {
     "name": "stdout",
     "output_type": "stream",
     "text": [
      "<class 'pandas.core.frame.DataFrame'>\n",
      "RangeIndex: 742277 entries, 0 to 742276\n",
      "Data columns (total 35 columns):\n",
      " #   Column        Non-Null Count   Dtype  \n",
      "---  ------        --------------   -----  \n",
      " 0   VAERS_ID      742277 non-null  int64  \n",
      " 1   RECVDATE      742277 non-null  object \n",
      " 2   STATE         637927 non-null  object \n",
      " 3   AGE_YRS       660716 non-null  float64\n",
      " 4   CAGE_YR       592537 non-null  float64\n",
      " 5   CAGE_MO       4188 non-null    float64\n",
      " 6   SEX           742277 non-null  object \n",
      " 7   RPT_DATE      767 non-null     object \n",
      " 8   SYMPTOM_TEXT  741985 non-null  object \n",
      " 9   DIED          10484 non-null   object \n",
      " 10  DATEDIED      9217 non-null    object \n",
      " 11  L_THREAT      11085 non-null   object \n",
      " 12  ER_VISIT      118 non-null     object \n",
      " 13  HOSPITAL      47281 non-null   object \n",
      " 14  HOSPDAYS      31218 non-null   float64\n",
      " 15  X_STAY        378 non-null     object \n",
      " 16  DISABLE       11921 non-null   object \n",
      " 17  RECOVD        669866 non-null  object \n",
      " 18  VAX_DATE      685784 non-null  object \n",
      " 19  ONSET_DATE    675801 non-null  object \n",
      " 20  NUMDAYS       647394 non-null  float64\n",
      " 21  LAB_DATA      280047 non-null  object \n",
      " 22  V_ADMINBY     742277 non-null  object \n",
      " 23  V_FUNDBY      832 non-null     object \n",
      " 24  OTHER_MEDS    413119 non-null  object \n",
      " 25  CUR_ILL       327239 non-null  object \n",
      " 26  HISTORY       438593 non-null  object \n",
      " 27  PRIOR_VAX     36062 non-null   object \n",
      " 28  SPLTTYPE      221641 non-null  object \n",
      " 29  FORM_VERS     742277 non-null  int64  \n",
      " 30  TODAYS_DATE   737041 non-null  object \n",
      " 31  BIRTH_DEFECT  460 non-null     object \n",
      " 32  OFC_VISIT     143061 non-null  object \n",
      " 33  ER_ED_VISIT   88842 non-null   object \n",
      " 34  ALLERGIES     364767 non-null  object \n",
      "dtypes: float64(5), int64(2), object(28)\n",
      "memory usage: 1.4 GB\n"
     ]
    }
   ],
   "source": [
    "import numpy as np\n",
    "import pandas as pd\n",
    "import warnings\n",
    "warnings.filterwarnings(\"ignore\")\n",
    "\n",
    "vdata = pd.read_csv(\"2021VAERSDATA.csv\", encoding=\"iso-8859-1\")\n",
    "# vdata information (columns, rows, datatypes, size)\n",
    "vdata.info(memory_usage=\"deep\")"
   ]
  },
  {
   "cell_type": "code",
   "execution_count": 4,
   "id": "fc39dc64",
   "metadata": {},
   "outputs": [
    {
     "name": "stdout",
     "output_type": "stream",
     "text": [
      "VAERS_ID int64 5\n",
      "RECVDATE object 47\n",
      "STATE object 39\n",
      "AGE_YRS float64 5\n",
      "CAGE_YR float64 5\n",
      "CAGE_MO float64 5\n",
      "SEX object 41\n",
      "RPT_DATE object 22\n",
      "SYMPTOM_TEXT object 496\n",
      "DIED object 22\n",
      "DATEDIED object 22\n",
      "L_THREAT object 22\n",
      "ER_VISIT object 22\n",
      "HOSPITAL object 23\n",
      "HOSPDAYS float64 5\n",
      "X_STAY object 22\n",
      "DISABLE object 22\n",
      "RECOVD object 39\n",
      "VAX_DATE object 45\n",
      "ONSET_DATE object 45\n",
      "NUMDAYS float64 5\n",
      "LAB_DATA object 54\n",
      "V_ADMINBY object 42\n",
      "V_FUNDBY object 22\n",
      "OTHER_MEDS object 51\n",
      "CUR_ILL object 36\n",
      "HISTORY object 52\n",
      "PRIOR_VAX object 25\n",
      "SPLTTYPE object 32\n",
      "FORM_VERS int64 5\n",
      "TODAYS_DATE object 47\n",
      "BIRTH_DEFECT object 22\n",
      "OFC_VISIT object 26\n",
      "ER_ED_VISIT object 24\n",
      "ALLERGIES object 38\n"
     ]
    }
   ],
   "source": [
    "# size of each column in mb\n",
    "for name in vdata.columns:\n",
    "    col_bytes = vdata[name].memory_usage(index=False, deep=True)\n",
    "    col_type = vdata[name].dtype\n",
    "    print(\n",
    "        name,\n",
    "        col_type, col_bytes // (1024 ** 2))"
   ]
  },
  {
   "cell_type": "code",
   "execution_count": 5,
   "id": "71ac171e",
   "metadata": {},
   "outputs": [
    {
     "data": {
      "text/plain": [
       "24025448"
      ]
     },
     "execution_count": 5,
     "metadata": {},
     "output_type": "execute_result"
    }
   ],
   "source": [
    "# original DIED size in bytes\n",
    "vdata.DIED.memory_usage(index=False, deep=True)"
   ]
  },
  {
   "cell_type": "code",
   "execution_count": 6,
   "id": "e113a7fa",
   "metadata": {},
   "outputs": [
    {
     "data": {
      "text/plain": [
       "742277"
      ]
     },
     "execution_count": 6,
     "metadata": {},
     "output_type": "execute_result"
    }
   ],
   "source": [
    "# compact DIED size in bytes\n",
    "vdata.DIED.fillna(False).astype(bool).memory_usage(index=False, deep=True)"
   ]
  },
  {
   "cell_type": "code",
   "execution_count": 10,
   "id": "f9ead95b",
   "metadata": {},
   "outputs": [
    {
     "data": {
      "text/plain": [
       "['TX',\n",
       " 'CA',\n",
       " 'WA',\n",
       " 'NV',\n",
       " 'KS',\n",
       " 'OH',\n",
       " 'TN',\n",
       " 'VA',\n",
       " 'NC',\n",
       " 'NY',\n",
       " 'AK',\n",
       " 'GA',\n",
       " 'NJ',\n",
       " 'LA',\n",
       " nan,\n",
       " 'IL',\n",
       " 'MD',\n",
       " 'ME',\n",
       " 'MA',\n",
       " 'MI',\n",
       " 'CT',\n",
       " 'FL',\n",
       " 'OK',\n",
       " 'AR',\n",
       " 'ID',\n",
       " 'PA',\n",
       " 'IN',\n",
       " 'MN',\n",
       " 'NH',\n",
       " 'MO',\n",
       " 'CO',\n",
       " 'NE',\n",
       " 'UT',\n",
       " 'AZ',\n",
       " 'DE',\n",
       " 'AL',\n",
       " 'MT',\n",
       " 'RI',\n",
       " 'MS',\n",
       " 'IA',\n",
       " 'KY',\n",
       " 'HI',\n",
       " 'WV',\n",
       " 'WI',\n",
       " 'NM',\n",
       " 'OR',\n",
       " 'PR',\n",
       " 'ND',\n",
       " 'SC',\n",
       " 'VT',\n",
       " 'DC',\n",
       " 'SD',\n",
       " 'WY',\n",
       " 'XB',\n",
       " 'VI',\n",
       " 'GU',\n",
       " 'AS',\n",
       " 'MP',\n",
       " 'MH',\n",
       " 'FM',\n",
       " 'XL',\n",
       " 'XV',\n",
       " 'QM']"
      ]
     },
     "execution_count": 10,
     "metadata": {},
     "output_type": "execute_result"
    }
   ],
   "source": [
    "vdata[\"STATE\"] = vdata.STATE.str.upper()\n",
    "states = list(vdata[\"STATE\"].unique())\n",
    "states\n",
    "#vdata.STATE.unique()"
   ]
  },
  {
   "cell_type": "code",
   "execution_count": 12,
   "id": "2dbea401",
   "metadata": {},
   "outputs": [
    {
     "data": {
      "text/html": [
       "<div>\n",
       "<style scoped>\n",
       "    .dataframe tbody tr th:only-of-type {\n",
       "        vertical-align: middle;\n",
       "    }\n",
       "\n",
       "    .dataframe tbody tr th {\n",
       "        vertical-align: top;\n",
       "    }\n",
       "\n",
       "    .dataframe thead th {\n",
       "        text-align: right;\n",
       "    }\n",
       "</style>\n",
       "<table border=\"1\" class=\"dataframe\">\n",
       "  <thead>\n",
       "    <tr style=\"text-align: right;\">\n",
       "      <th></th>\n",
       "      <th>encoded_state</th>\n",
       "      <th>STATE</th>\n",
       "    </tr>\n",
       "  </thead>\n",
       "  <tbody>\n",
       "    <tr>\n",
       "      <th>0</th>\n",
       "      <td>0</td>\n",
       "      <td>TX</td>\n",
       "    </tr>\n",
       "    <tr>\n",
       "      <th>1</th>\n",
       "      <td>1</td>\n",
       "      <td>CA</td>\n",
       "    </tr>\n",
       "    <tr>\n",
       "      <th>2</th>\n",
       "      <td>2</td>\n",
       "      <td>WA</td>\n",
       "    </tr>\n",
       "    <tr>\n",
       "      <th>3</th>\n",
       "      <td>2</td>\n",
       "      <td>WA</td>\n",
       "    </tr>\n",
       "    <tr>\n",
       "      <th>4</th>\n",
       "      <td>0</td>\n",
       "      <td>TX</td>\n",
       "    </tr>\n",
       "    <tr>\n",
       "      <th>5</th>\n",
       "      <td>0</td>\n",
       "      <td>TX</td>\n",
       "    </tr>\n",
       "    <tr>\n",
       "      <th>6</th>\n",
       "      <td>3</td>\n",
       "      <td>NV</td>\n",
       "    </tr>\n",
       "    <tr>\n",
       "      <th>7</th>\n",
       "      <td>4</td>\n",
       "      <td>KS</td>\n",
       "    </tr>\n",
       "    <tr>\n",
       "      <th>8</th>\n",
       "      <td>5</td>\n",
       "      <td>OH</td>\n",
       "    </tr>\n",
       "    <tr>\n",
       "      <th>9</th>\n",
       "      <td>6</td>\n",
       "      <td>TN</td>\n",
       "    </tr>\n",
       "  </tbody>\n",
       "</table>\n",
       "</div>"
      ],
      "text/plain": [
       "   encoded_state STATE\n",
       "0              0    TX\n",
       "1              1    CA\n",
       "2              2    WA\n",
       "3              2    WA\n",
       "4              0    TX\n",
       "5              0    TX\n",
       "6              3    NV\n",
       "7              4    KS\n",
       "8              5    OH\n",
       "9              6    TN"
      ]
     },
     "execution_count": 12,
     "metadata": {},
     "output_type": "execute_result"
    }
   ],
   "source": [
    "# convert STATE (text) into encoded_state (number)\n",
    "vdata[\"encoded_state\"] = vdata.STATE.apply(lambda state: states.index(state))\n",
    "vdata[\"encoded_state\"] = vdata[\"encoded_state\"].astype(np.uint8)\n",
    "vdata[[\"encoded_state\", \"STATE\"]].head(10)"
   ]
  },
  {
   "cell_type": "code",
   "execution_count": 13,
   "id": "c03fcff1",
   "metadata": {},
   "outputs": [
    {
     "data": {
      "text/plain": [
       "40976893"
      ]
     },
     "execution_count": 13,
     "metadata": {},
     "output_type": "execute_result"
    }
   ],
   "source": [
    "# original STATE size in bytes\n",
    "vdata[\"STATE\"].memory_usage(index=False, deep=True)"
   ]
  },
  {
   "cell_type": "code",
   "execution_count": 14,
   "id": "53e5bd69",
   "metadata": {},
   "outputs": [
    {
     "data": {
      "text/plain": [
       "742277"
      ]
     },
     "execution_count": 14,
     "metadata": {},
     "output_type": "execute_result"
    }
   ],
   "source": [
    "# compact DIED size in bytes\n",
    "vdata[\"encoded_state\"].memory_usage(index=False,deep=True)"
   ]
  },
  {
   "cell_type": "code",
   "execution_count": 15,
   "id": "e27d9a81",
   "metadata": {},
   "outputs": [
    {
     "data": {
      "text/plain": [
       "RangeIndex(start=0, stop=742277, step=1)"
      ]
     },
     "execution_count": 15,
     "metadata": {},
     "output_type": "execute_result"
    }
   ],
   "source": [
    "vdata.index"
   ]
  },
  {
   "cell_type": "code",
   "execution_count": 17,
   "id": "09fadcd8",
   "metadata": {},
   "outputs": [],
   "source": [
    "# We only return the STATE column to save memory\n",
    "states = list(pd.read_csv(\n",
    "    \"vdata_sample.csv\",\n",
    "    converters={\n",
    "       \"STATE\": lambda state: state.upper()  # You need to know the states in advance\n",
    "    },\n",
    "    usecols=[\"STATE\"]\n",
    ")[\"STATE\"].unique())"
   ]
  },
  {
   "cell_type": "code",
   "execution_count": 19,
   "id": "b94d901f",
   "metadata": {},
   "outputs": [
    {
     "name": "stdout",
     "output_type": "stream",
     "text": [
      "<class 'pandas.core.frame.DataFrame'>\n",
      "Int64Index: 668049 entries, 1459706 to 1282350\n",
      "Data columns (total 33 columns):\n",
      " #   Column        Non-Null Count   Dtype  \n",
      "---  ------        --------------   -----  \n",
      " 0   RECVDATE      668049 non-null  object \n",
      " 1   STATE         668049 non-null  uint8  \n",
      " 2   AGE_YRS       594491 non-null  float64\n",
      " 3   CAGE_YR       533013 non-null  float64\n",
      " 4   CAGE_MO       3723 non-null    float64\n",
      " 5   SEX           668049 non-null  object \n",
      " 6   RPT_DATE      684 non-null     object \n",
      " 7   DIED          668049 non-null  bool   \n",
      " 8   DATEDIED      8274 non-null    object \n",
      " 9   L_THREAT      9952 non-null    object \n",
      " 10  ER_VISIT      107 non-null     object \n",
      " 11  HOSPITAL      42441 non-null   object \n",
      " 12  HOSPDAYS      27985 non-null   float64\n",
      " 13  X_STAY        346 non-null     object \n",
      " 14  DISABLE       10695 non-null   object \n",
      " 15  RECOVD        603018 non-null  object \n",
      " 16  VAX_DATE      617002 non-null  object \n",
      " 17  ONSET_DATE    608172 non-null  object \n",
      " 18  NUMDAYS       582571 non-null  float64\n",
      " 19  LAB_DATA      251893 non-null  object \n",
      " 20  V_ADMINBY     668049 non-null  object \n",
      " 21  V_FUNDBY      742 non-null     object \n",
      " 22  OTHER_MEDS    371631 non-null  object \n",
      " 23  CUR_ILL       294465 non-null  object \n",
      " 24  HISTORY       394591 non-null  object \n",
      " 25  PRIOR_VAX     32448 non-null   object \n",
      " 26  SPLTTYPE      199845 non-null  object \n",
      " 27  FORM_VERS     668049 non-null  int64  \n",
      " 28  TODAYS_DATE   663363 non-null  object \n",
      " 29  BIRTH_DEFECT  407 non-null     object \n",
      " 30  OFC_VISIT     128596 non-null  object \n",
      " 31  ER_ED_VISIT   79862 non-null   object \n",
      " 32  ALLERGIES     328093 non-null  object \n",
      "dtypes: bool(1), float64(5), int64(1), object(25), uint8(1)\n",
      "memory usage: 806.9 MB\n"
     ]
    }
   ],
   "source": [
    "vdata = pd.read_csv(\n",
    "    \"vdata_sample.csv\",\n",
    "    index_col=\"VAERS_ID\",\n",
    "    converters={\n",
    "       \"DIED\": lambda died: died == \"Y\",\n",
    "       \"STATE\": lambda state: states.index(state.upper())\n",
    "    },\n",
    "    usecols=lambda name: name != \"SYMPTOM_TEXT\"\n",
    ")\n",
    "vdata[\"STATE\"] = vdata[\"STATE\"].astype(np.uint8)\n",
    "vdata.info(memory_usage=\"deep\")\n",
    "\n",
    "# SYMPTOM_TEXT is not used reducing size"
   ]
  },
  {
   "cell_type": "code",
   "execution_count": null,
   "id": "fe8b016c",
   "metadata": {},
   "outputs": [],
   "source": []
  }
 ],
 "metadata": {
  "kernelspec": {
   "display_name": "Python 3 (ipykernel)",
   "language": "python",
   "name": "python3"
  },
  "language_info": {
   "codemirror_mode": {
    "name": "ipython",
    "version": 3
   },
   "file_extension": ".py",
   "mimetype": "text/x-python",
   "name": "python",
   "nbconvert_exporter": "python",
   "pygments_lexer": "ipython3",
   "version": "3.10.9"
  }
 },
 "nbformat": 4,
 "nbformat_minor": 5
}
