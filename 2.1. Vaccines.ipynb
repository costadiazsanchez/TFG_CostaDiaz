{
 "cells": [
  {
   "cell_type": "code",
   "execution_count": 1,
   "id": "16f46e76",
   "metadata": {},
   "outputs": [
    {
     "name": "stderr",
     "output_type": "stream",
     "text": [
      "/var/folders/j3/tm85xp0s56qg350yszzg32vw0000gn/T/ipykernel_2340/612529923.py:4: DtypeWarning: Columns (7,12,15,23) have mixed types. Specify dtype option on import or set low_memory=False.\n",
      "  vdata = pd.read_csv(\"2021VAERSDATA.csv\", encoding=\"iso-8859-1\")\n"
     ]
    }
   ],
   "source": [
    "import pandas as pd\n",
    "import matplotlib.pyplot as plt\n",
    "\n",
    "vdata = pd.read_csv(\"2021VAERSDATA.csv\", encoding=\"iso-8859-1\")"
   ]
  },
  {
   "cell_type": "code",
   "execution_count": 2,
   "id": "218afeb1",
   "metadata": {},
   "outputs": [
    {
     "data": {
      "text/plain": [
       "Index(['VAERS_ID', 'RECVDATE', 'STATE', 'AGE_YRS', 'CAGE_YR', 'CAGE_MO', 'SEX',\n",
       "       'RPT_DATE', 'SYMPTOM_TEXT', 'DIED', 'DATEDIED', 'L_THREAT', 'ER_VISIT',\n",
       "       'HOSPITAL', 'HOSPDAYS', 'X_STAY', 'DISABLE', 'RECOVD', 'VAX_DATE',\n",
       "       'ONSET_DATE', 'NUMDAYS', 'LAB_DATA', 'V_ADMINBY', 'V_FUNDBY',\n",
       "       'OTHER_MEDS', 'CUR_ILL', 'HISTORY', 'PRIOR_VAX', 'SPLTTYPE',\n",
       "       'FORM_VERS', 'TODAYS_DATE', 'BIRTH_DEFECT', 'OFC_VISIT', 'ER_ED_VISIT',\n",
       "       'ALLERGIES'],\n",
       "      dtype='object')"
      ]
     },
     "execution_count": 2,
     "metadata": {},
     "output_type": "execute_result"
    }
   ],
   "source": [
    "vdata.columns"
   ]
  },
  {
   "cell_type": "code",
   "execution_count": 3,
   "id": "c4d3359d",
   "metadata": {},
   "outputs": [
    {
     "data": {
      "text/plain": [
       "VAERS_ID          int64\n",
       "RECVDATE         object\n",
       "STATE            object\n",
       "AGE_YRS         float64\n",
       "CAGE_YR         float64\n",
       "CAGE_MO         float64\n",
       "SEX              object\n",
       "RPT_DATE         object\n",
       "SYMPTOM_TEXT     object\n",
       "DIED             object\n",
       "DATEDIED         object\n",
       "L_THREAT         object\n",
       "ER_VISIT         object\n",
       "HOSPITAL         object\n",
       "HOSPDAYS        float64\n",
       "X_STAY           object\n",
       "DISABLE          object\n",
       "RECOVD           object\n",
       "VAX_DATE         object\n",
       "ONSET_DATE       object\n",
       "NUMDAYS         float64\n",
       "LAB_DATA         object\n",
       "V_ADMINBY        object\n",
       "V_FUNDBY         object\n",
       "OTHER_MEDS       object\n",
       "CUR_ILL          object\n",
       "HISTORY          object\n",
       "PRIOR_VAX        object\n",
       "SPLTTYPE         object\n",
       "FORM_VERS         int64\n",
       "TODAYS_DATE      object\n",
       "BIRTH_DEFECT     object\n",
       "OFC_VISIT        object\n",
       "ER_ED_VISIT      object\n",
       "ALLERGIES        object\n",
       "dtype: object"
      ]
     },
     "execution_count": 3,
     "metadata": {},
     "output_type": "execute_result"
    }
   ],
   "source": [
    "vdata.dtypes"
   ]
  },
  {
   "cell_type": "code",
   "execution_count": 4,
   "id": "355085bc",
   "metadata": {},
   "outputs": [
    {
     "data": {
      "text/plain": [
       "(742277, 35)"
      ]
     },
     "execution_count": 4,
     "metadata": {},
     "output_type": "execute_result"
    }
   ],
   "source": [
    "vdata.shape"
   ]
  },
  {
   "cell_type": "code",
   "execution_count": 5,
   "id": "a6050dcf",
   "metadata": {},
   "outputs": [
    {
     "data": {
      "text/plain": [
       "VAERS_ID                                                   916600\n",
       "RECVDATE                                               01/01/2021\n",
       "STATE                                                          TX\n",
       "AGE_YRS                                                      33.0\n",
       "CAGE_YR                                                      33.0\n",
       "CAGE_MO                                                       NaN\n",
       "SEX                                                             F\n",
       "RPT_DATE                                                      NaN\n",
       "SYMPTOM_TEXT    Right side of epiglottis swelled up and hinder...\n",
       "DIED                                                          NaN\n",
       "DATEDIED                                                      NaN\n",
       "L_THREAT                                                      NaN\n",
       "ER_VISIT                                                      NaN\n",
       "HOSPITAL                                                      NaN\n",
       "HOSPDAYS                                                      NaN\n",
       "X_STAY                                                        NaN\n",
       "DISABLE                                                       NaN\n",
       "RECOVD                                                          Y\n",
       "VAX_DATE                                               12/28/2020\n",
       "ONSET_DATE                                             12/30/2020\n",
       "NUMDAYS                                                       2.0\n",
       "LAB_DATA                                                     None\n",
       "V_ADMINBY                                                     PVT\n",
       "V_FUNDBY                                                      NaN\n",
       "OTHER_MEDS                                                   None\n",
       "CUR_ILL                                                      None\n",
       "HISTORY                                                      None\n",
       "PRIOR_VAX                                                     NaN\n",
       "SPLTTYPE                                                      NaN\n",
       "FORM_VERS                                                       2\n",
       "TODAYS_DATE                                            01/01/2021\n",
       "BIRTH_DEFECT                                                  NaN\n",
       "OFC_VISIT                                                       Y\n",
       "ER_ED_VISIT                                                   NaN\n",
       "ALLERGIES                                       Pcn and bee venom\n",
       "Name: 0, dtype: object"
      ]
     },
     "execution_count": 5,
     "metadata": {},
     "output_type": "execute_result"
    }
   ],
   "source": [
    "vdata.iloc[0]"
   ]
  },
  {
   "cell_type": "code",
   "execution_count": 6,
   "id": "b24f019e",
   "metadata": {},
   "outputs": [],
   "source": [
    "vdata = vdata.set_index(\"VAERS_ID\")"
   ]
  },
  {
   "cell_type": "code",
   "execution_count": 7,
   "id": "f6f8e1ce",
   "metadata": {},
   "outputs": [
    {
     "data": {
      "text/plain": [
       "RECVDATE                                               01/01/2021\n",
       "STATE                                                          TX\n",
       "AGE_YRS                                                      33.0\n",
       "CAGE_YR                                                      33.0\n",
       "CAGE_MO                                                       NaN\n",
       "SEX                                                             F\n",
       "RPT_DATE                                                      NaN\n",
       "SYMPTOM_TEXT    Right side of epiglottis swelled up and hinder...\n",
       "DIED                                                          NaN\n",
       "DATEDIED                                                      NaN\n",
       "L_THREAT                                                      NaN\n",
       "ER_VISIT                                                      NaN\n",
       "HOSPITAL                                                      NaN\n",
       "HOSPDAYS                                                      NaN\n",
       "X_STAY                                                        NaN\n",
       "DISABLE                                                       NaN\n",
       "RECOVD                                                          Y\n",
       "VAX_DATE                                               12/28/2020\n",
       "ONSET_DATE                                             12/30/2020\n",
       "NUMDAYS                                                       2.0\n",
       "LAB_DATA                                                     None\n",
       "V_ADMINBY                                                     PVT\n",
       "V_FUNDBY                                                      NaN\n",
       "OTHER_MEDS                                                   None\n",
       "CUR_ILL                                                      None\n",
       "HISTORY                                                      None\n",
       "PRIOR_VAX                                                     NaN\n",
       "SPLTTYPE                                                      NaN\n",
       "FORM_VERS                                                       2\n",
       "TODAYS_DATE                                            01/01/2021\n",
       "BIRTH_DEFECT                                                  NaN\n",
       "OFC_VISIT                                                       Y\n",
       "ER_ED_VISIT                                                   NaN\n",
       "ALLERGIES                                       Pcn and bee venom\n",
       "Name: 916600, dtype: object"
      ]
     },
     "execution_count": 7,
     "metadata": {},
     "output_type": "execute_result"
    }
   ],
   "source": [
    "vdata.loc[916600]"
   ]
  },
  {
   "cell_type": "code",
   "execution_count": 8,
   "id": "11e169b2",
   "metadata": {},
   "outputs": [
    {
     "data": {
      "text/html": [
       "<div>\n",
       "<style scoped>\n",
       "    .dataframe tbody tr th:only-of-type {\n",
       "        vertical-align: middle;\n",
       "    }\n",
       "\n",
       "    .dataframe tbody tr th {\n",
       "        vertical-align: top;\n",
       "    }\n",
       "\n",
       "    .dataframe thead th {\n",
       "        text-align: right;\n",
       "    }\n",
       "</style>\n",
       "<table border=\"1\" class=\"dataframe\">\n",
       "  <thead>\n",
       "    <tr style=\"text-align: right;\">\n",
       "      <th></th>\n",
       "      <th>RECVDATE</th>\n",
       "      <th>STATE</th>\n",
       "      <th>AGE_YRS</th>\n",
       "      <th>CAGE_YR</th>\n",
       "      <th>CAGE_MO</th>\n",
       "      <th>SEX</th>\n",
       "      <th>RPT_DATE</th>\n",
       "      <th>SYMPTOM_TEXT</th>\n",
       "      <th>DIED</th>\n",
       "      <th>DATEDIED</th>\n",
       "      <th>...</th>\n",
       "      <th>CUR_ILL</th>\n",
       "      <th>HISTORY</th>\n",
       "      <th>PRIOR_VAX</th>\n",
       "      <th>SPLTTYPE</th>\n",
       "      <th>FORM_VERS</th>\n",
       "      <th>TODAYS_DATE</th>\n",
       "      <th>BIRTH_DEFECT</th>\n",
       "      <th>OFC_VISIT</th>\n",
       "      <th>ER_ED_VISIT</th>\n",
       "      <th>ALLERGIES</th>\n",
       "    </tr>\n",
       "    <tr>\n",
       "      <th>VAERS_ID</th>\n",
       "      <th></th>\n",
       "      <th></th>\n",
       "      <th></th>\n",
       "      <th></th>\n",
       "      <th></th>\n",
       "      <th></th>\n",
       "      <th></th>\n",
       "      <th></th>\n",
       "      <th></th>\n",
       "      <th></th>\n",
       "      <th></th>\n",
       "      <th></th>\n",
       "      <th></th>\n",
       "      <th></th>\n",
       "      <th></th>\n",
       "      <th></th>\n",
       "      <th></th>\n",
       "      <th></th>\n",
       "      <th></th>\n",
       "      <th></th>\n",
       "      <th></th>\n",
       "    </tr>\n",
       "  </thead>\n",
       "  <tbody>\n",
       "    <tr>\n",
       "      <th>916600</th>\n",
       "      <td>01/01/2021</td>\n",
       "      <td>TX</td>\n",
       "      <td>33.0</td>\n",
       "      <td>33.0</td>\n",
       "      <td>NaN</td>\n",
       "      <td>F</td>\n",
       "      <td>NaN</td>\n",
       "      <td>Right side of epiglottis swelled up and hinder...</td>\n",
       "      <td>NaN</td>\n",
       "      <td>NaN</td>\n",
       "      <td>...</td>\n",
       "      <td>None</td>\n",
       "      <td>None</td>\n",
       "      <td>NaN</td>\n",
       "      <td>NaN</td>\n",
       "      <td>2</td>\n",
       "      <td>01/01/2021</td>\n",
       "      <td>NaN</td>\n",
       "      <td>Y</td>\n",
       "      <td>NaN</td>\n",
       "      <td>Pcn and bee venom</td>\n",
       "    </tr>\n",
       "    <tr>\n",
       "      <th>916601</th>\n",
       "      <td>01/01/2021</td>\n",
       "      <td>CA</td>\n",
       "      <td>73.0</td>\n",
       "      <td>73.0</td>\n",
       "      <td>NaN</td>\n",
       "      <td>F</td>\n",
       "      <td>NaN</td>\n",
       "      <td>Approximately 30 min post vaccination administ...</td>\n",
       "      <td>NaN</td>\n",
       "      <td>NaN</td>\n",
       "      <td>...</td>\n",
       "      <td>Patient residing at nursing facility. See pati...</td>\n",
       "      <td>Patient residing at nursing facility. See pati...</td>\n",
       "      <td>NaN</td>\n",
       "      <td>NaN</td>\n",
       "      <td>2</td>\n",
       "      <td>01/01/2021</td>\n",
       "      <td>NaN</td>\n",
       "      <td>Y</td>\n",
       "      <td>NaN</td>\n",
       "      <td>\"Dairy\"</td>\n",
       "    </tr>\n",
       "    <tr>\n",
       "      <th>916602</th>\n",
       "      <td>01/01/2021</td>\n",
       "      <td>WA</td>\n",
       "      <td>23.0</td>\n",
       "      <td>23.0</td>\n",
       "      <td>NaN</td>\n",
       "      <td>F</td>\n",
       "      <td>NaN</td>\n",
       "      <td>About 15 minutes after receiving the vaccine, ...</td>\n",
       "      <td>NaN</td>\n",
       "      <td>NaN</td>\n",
       "      <td>...</td>\n",
       "      <td>None</td>\n",
       "      <td>None</td>\n",
       "      <td>NaN</td>\n",
       "      <td>NaN</td>\n",
       "      <td>2</td>\n",
       "      <td>01/01/2021</td>\n",
       "      <td>NaN</td>\n",
       "      <td>NaN</td>\n",
       "      <td>Y</td>\n",
       "      <td>Shellfish</td>\n",
       "    </tr>\n",
       "  </tbody>\n",
       "</table>\n",
       "<p>3 rows × 34 columns</p>\n",
       "</div>"
      ],
      "text/plain": [
       "            RECVDATE STATE  AGE_YRS  CAGE_YR  CAGE_MO SEX RPT_DATE  \\\n",
       "VAERS_ID                                                             \n",
       "916600    01/01/2021    TX     33.0     33.0      NaN   F      NaN   \n",
       "916601    01/01/2021    CA     73.0     73.0      NaN   F      NaN   \n",
       "916602    01/01/2021    WA     23.0     23.0      NaN   F      NaN   \n",
       "\n",
       "                                               SYMPTOM_TEXT DIED DATEDIED  \\\n",
       "VAERS_ID                                                                    \n",
       "916600    Right side of epiglottis swelled up and hinder...  NaN      NaN   \n",
       "916601    Approximately 30 min post vaccination administ...  NaN      NaN   \n",
       "916602    About 15 minutes after receiving the vaccine, ...  NaN      NaN   \n",
       "\n",
       "          ...                                            CUR_ILL  \\\n",
       "VAERS_ID  ...                                                      \n",
       "916600    ...                                               None   \n",
       "916601    ...  Patient residing at nursing facility. See pati...   \n",
       "916602    ...                                               None   \n",
       "\n",
       "                                                    HISTORY PRIOR_VAX  \\\n",
       "VAERS_ID                                                                \n",
       "916600                                                 None       NaN   \n",
       "916601    Patient residing at nursing facility. See pati...       NaN   \n",
       "916602                                                 None       NaN   \n",
       "\n",
       "          SPLTTYPE FORM_VERS TODAYS_DATE BIRTH_DEFECT OFC_VISIT ER_ED_VISIT  \\\n",
       "VAERS_ID                                                                      \n",
       "916600         NaN         2  01/01/2021          NaN         Y         NaN   \n",
       "916601         NaN         2  01/01/2021          NaN         Y         NaN   \n",
       "916602         NaN         2  01/01/2021          NaN       NaN           Y   \n",
       "\n",
       "                  ALLERGIES  \n",
       "VAERS_ID                     \n",
       "916600    Pcn and bee venom  \n",
       "916601              \"Dairy\"  \n",
       "916602            Shellfish  \n",
       "\n",
       "[3 rows x 34 columns]"
      ]
     },
     "execution_count": 8,
     "metadata": {},
     "output_type": "execute_result"
    }
   ],
   "source": [
    "vdata.head(3)"
   ]
  },
  {
   "cell_type": "code",
   "execution_count": 9,
   "id": "0f6dde8c",
   "metadata": {},
   "outputs": [
    {
     "data": {
      "text/html": [
       "<div>\n",
       "<style scoped>\n",
       "    .dataframe tbody tr th:only-of-type {\n",
       "        vertical-align: middle;\n",
       "    }\n",
       "\n",
       "    .dataframe tbody tr th {\n",
       "        vertical-align: top;\n",
       "    }\n",
       "\n",
       "    .dataframe thead th {\n",
       "        text-align: right;\n",
       "    }\n",
       "</style>\n",
       "<table border=\"1\" class=\"dataframe\">\n",
       "  <thead>\n",
       "    <tr style=\"text-align: right;\">\n",
       "      <th></th>\n",
       "      <th>RECVDATE</th>\n",
       "      <th>STATE</th>\n",
       "      <th>AGE_YRS</th>\n",
       "      <th>CAGE_YR</th>\n",
       "      <th>CAGE_MO</th>\n",
       "      <th>SEX</th>\n",
       "      <th>RPT_DATE</th>\n",
       "      <th>SYMPTOM_TEXT</th>\n",
       "      <th>DIED</th>\n",
       "      <th>DATEDIED</th>\n",
       "      <th>...</th>\n",
       "      <th>CUR_ILL</th>\n",
       "      <th>HISTORY</th>\n",
       "      <th>PRIOR_VAX</th>\n",
       "      <th>SPLTTYPE</th>\n",
       "      <th>FORM_VERS</th>\n",
       "      <th>TODAYS_DATE</th>\n",
       "      <th>BIRTH_DEFECT</th>\n",
       "      <th>OFC_VISIT</th>\n",
       "      <th>ER_ED_VISIT</th>\n",
       "      <th>ALLERGIES</th>\n",
       "    </tr>\n",
       "    <tr>\n",
       "      <th>VAERS_ID</th>\n",
       "      <th></th>\n",
       "      <th></th>\n",
       "      <th></th>\n",
       "      <th></th>\n",
       "      <th></th>\n",
       "      <th></th>\n",
       "      <th></th>\n",
       "      <th></th>\n",
       "      <th></th>\n",
       "      <th></th>\n",
       "      <th></th>\n",
       "      <th></th>\n",
       "      <th></th>\n",
       "      <th></th>\n",
       "      <th></th>\n",
       "      <th></th>\n",
       "      <th></th>\n",
       "      <th></th>\n",
       "      <th></th>\n",
       "      <th></th>\n",
       "      <th></th>\n",
       "    </tr>\n",
       "  </thead>\n",
       "  <tbody>\n",
       "    <tr>\n",
       "      <th>916600</th>\n",
       "      <td>01/01/2021</td>\n",
       "      <td>TX</td>\n",
       "      <td>33.0</td>\n",
       "      <td>33.0</td>\n",
       "      <td>NaN</td>\n",
       "      <td>F</td>\n",
       "      <td>NaN</td>\n",
       "      <td>Right side of epiglottis swelled up and hinder...</td>\n",
       "      <td>NaN</td>\n",
       "      <td>NaN</td>\n",
       "      <td>...</td>\n",
       "      <td>None</td>\n",
       "      <td>None</td>\n",
       "      <td>NaN</td>\n",
       "      <td>NaN</td>\n",
       "      <td>2</td>\n",
       "      <td>01/01/2021</td>\n",
       "      <td>NaN</td>\n",
       "      <td>Y</td>\n",
       "      <td>NaN</td>\n",
       "      <td>Pcn and bee venom</td>\n",
       "    </tr>\n",
       "    <tr>\n",
       "      <th>916601</th>\n",
       "      <td>01/01/2021</td>\n",
       "      <td>CA</td>\n",
       "      <td>73.0</td>\n",
       "      <td>73.0</td>\n",
       "      <td>NaN</td>\n",
       "      <td>F</td>\n",
       "      <td>NaN</td>\n",
       "      <td>Approximately 30 min post vaccination administ...</td>\n",
       "      <td>NaN</td>\n",
       "      <td>NaN</td>\n",
       "      <td>...</td>\n",
       "      <td>Patient residing at nursing facility. See pati...</td>\n",
       "      <td>Patient residing at nursing facility. See pati...</td>\n",
       "      <td>NaN</td>\n",
       "      <td>NaN</td>\n",
       "      <td>2</td>\n",
       "      <td>01/01/2021</td>\n",
       "      <td>NaN</td>\n",
       "      <td>Y</td>\n",
       "      <td>NaN</td>\n",
       "      <td>\"Dairy\"</td>\n",
       "    </tr>\n",
       "    <tr>\n",
       "      <th>916602</th>\n",
       "      <td>01/01/2021</td>\n",
       "      <td>WA</td>\n",
       "      <td>23.0</td>\n",
       "      <td>23.0</td>\n",
       "      <td>NaN</td>\n",
       "      <td>F</td>\n",
       "      <td>NaN</td>\n",
       "      <td>About 15 minutes after receiving the vaccine, ...</td>\n",
       "      <td>NaN</td>\n",
       "      <td>NaN</td>\n",
       "      <td>...</td>\n",
       "      <td>None</td>\n",
       "      <td>None</td>\n",
       "      <td>NaN</td>\n",
       "      <td>NaN</td>\n",
       "      <td>2</td>\n",
       "      <td>01/01/2021</td>\n",
       "      <td>NaN</td>\n",
       "      <td>NaN</td>\n",
       "      <td>Y</td>\n",
       "      <td>Shellfish</td>\n",
       "    </tr>\n",
       "  </tbody>\n",
       "</table>\n",
       "<p>3 rows × 34 columns</p>\n",
       "</div>"
      ],
      "text/plain": [
       "            RECVDATE STATE  AGE_YRS  CAGE_YR  CAGE_MO SEX RPT_DATE  \\\n",
       "VAERS_ID                                                             \n",
       "916600    01/01/2021    TX     33.0     33.0      NaN   F      NaN   \n",
       "916601    01/01/2021    CA     73.0     73.0      NaN   F      NaN   \n",
       "916602    01/01/2021    WA     23.0     23.0      NaN   F      NaN   \n",
       "\n",
       "                                               SYMPTOM_TEXT DIED DATEDIED  \\\n",
       "VAERS_ID                                                                    \n",
       "916600    Right side of epiglottis swelled up and hinder...  NaN      NaN   \n",
       "916601    Approximately 30 min post vaccination administ...  NaN      NaN   \n",
       "916602    About 15 minutes after receiving the vaccine, ...  NaN      NaN   \n",
       "\n",
       "          ...                                            CUR_ILL  \\\n",
       "VAERS_ID  ...                                                      \n",
       "916600    ...                                               None   \n",
       "916601    ...  Patient residing at nursing facility. See pati...   \n",
       "916602    ...                                               None   \n",
       "\n",
       "                                                    HISTORY PRIOR_VAX  \\\n",
       "VAERS_ID                                                                \n",
       "916600                                                 None       NaN   \n",
       "916601    Patient residing at nursing facility. See pati...       NaN   \n",
       "916602                                                 None       NaN   \n",
       "\n",
       "          SPLTTYPE FORM_VERS TODAYS_DATE BIRTH_DEFECT OFC_VISIT ER_ED_VISIT  \\\n",
       "VAERS_ID                                                                      \n",
       "916600         NaN         2  01/01/2021          NaN         Y         NaN   \n",
       "916601         NaN         2  01/01/2021          NaN         Y         NaN   \n",
       "916602         NaN         2  01/01/2021          NaN       NaN           Y   \n",
       "\n",
       "                  ALLERGIES  \n",
       "VAERS_ID                     \n",
       "916600    Pcn and bee venom  \n",
       "916601              \"Dairy\"  \n",
       "916602            Shellfish  \n",
       "\n",
       "[3 rows x 34 columns]"
      ]
     },
     "execution_count": 9,
     "metadata": {},
     "output_type": "execute_result"
    }
   ],
   "source": [
    "vdata.iloc[:3]"
   ]
  },
  {
   "cell_type": "code",
   "execution_count": 10,
   "id": "51ae44cc",
   "metadata": {},
   "outputs": [
    {
     "data": {
      "text/html": [
       "<div>\n",
       "<style scoped>\n",
       "    .dataframe tbody tr th:only-of-type {\n",
       "        vertical-align: middle;\n",
       "    }\n",
       "\n",
       "    .dataframe tbody tr th {\n",
       "        vertical-align: top;\n",
       "    }\n",
       "\n",
       "    .dataframe thead th {\n",
       "        text-align: right;\n",
       "    }\n",
       "</style>\n",
       "<table border=\"1\" class=\"dataframe\">\n",
       "  <thead>\n",
       "    <tr style=\"text-align: right;\">\n",
       "      <th></th>\n",
       "      <th>AGE_YRS</th>\n",
       "      <th>CAGE_YR</th>\n",
       "    </tr>\n",
       "    <tr>\n",
       "      <th>VAERS_ID</th>\n",
       "      <th></th>\n",
       "      <th></th>\n",
       "    </tr>\n",
       "  </thead>\n",
       "  <tbody>\n",
       "    <tr>\n",
       "      <th>916600</th>\n",
       "      <td>33.0</td>\n",
       "      <td>33.0</td>\n",
       "    </tr>\n",
       "    <tr>\n",
       "      <th>916601</th>\n",
       "      <td>73.0</td>\n",
       "      <td>73.0</td>\n",
       "    </tr>\n",
       "    <tr>\n",
       "      <th>916602</th>\n",
       "      <td>23.0</td>\n",
       "      <td>23.0</td>\n",
       "    </tr>\n",
       "    <tr>\n",
       "      <th>916603</th>\n",
       "      <td>58.0</td>\n",
       "      <td>58.0</td>\n",
       "    </tr>\n",
       "    <tr>\n",
       "      <th>916604</th>\n",
       "      <td>47.0</td>\n",
       "      <td>47.0</td>\n",
       "    </tr>\n",
       "  </tbody>\n",
       "</table>\n",
       "</div>"
      ],
      "text/plain": [
       "          AGE_YRS  CAGE_YR\n",
       "VAERS_ID                  \n",
       "916600       33.0     33.0\n",
       "916601       73.0     73.0\n",
       "916602       23.0     23.0\n",
       "916603       58.0     58.0\n",
       "916604       47.0     47.0"
      ]
     },
     "execution_count": 10,
     "metadata": {},
     "output_type": "execute_result"
    }
   ],
   "source": [
    "vdata.iloc[:5, 2:4]"
   ]
  },
  {
   "cell_type": "code",
   "execution_count": 11,
   "id": "85d61381",
   "metadata": {},
   "outputs": [
    {
     "data": {
      "text/plain": [
       "119.0"
      ]
     },
     "execution_count": 11,
     "metadata": {},
     "output_type": "execute_result"
    }
   ],
   "source": [
    "vdata[\"AGE_YRS\"].max()\n",
    "#vdata.AGE_YRS.max()"
   ]
  },
  {
   "cell_type": "code",
   "execution_count": 13,
   "id": "55351310",
   "metadata": {},
   "outputs": [
    {
     "data": {
      "text/plain": [
       "<Axes: >"
      ]
     },
     "execution_count": 13,
     "metadata": {},
     "output_type": "execute_result"
    },
    {
     "data": {
      "image/png": "[encoded data removed]",
      "text/plain": [
       "<Figure size 640x480 with 1 Axes>"
      ]
     },
     "metadata": {},
     "output_type": "display_data"
    }
   ],
   "source": [
    "vdata[\"AGE_YRS\"].sort_values().plot(use_index=False) # plot"
   ]
  },
  {
   "cell_type": "code",
   "execution_count": 14,
   "id": "01f7ef4d",
   "metadata": {},
   "outputs": [
    {
     "data": {
      "text/plain": [
       "<Axes: ylabel='Frequency'>"
      ]
     },
     "execution_count": 14,
     "metadata": {},
     "output_type": "execute_result"
    },
    {
     "data": {
      "image/png": "[encoded data removed]",
      "text/plain": [
       "<Figure size 640x480 with 1 Axes>"
      ]
     },
     "metadata": {},
     "output_type": "display_data"
    }
   ],
   "source": [
    "vdata[\"AGE_YRS\"].plot.hist(bins=20) # histogram with 20 bins"
   ]
  },
  {
   "cell_type": "code",
   "execution_count": 15,
   "id": "9adca3b8",
   "metadata": {},
   "outputs": [
    {
     "data": {
      "image/png": "[encoded data removed]",
      "text/plain": [
       "<Figure size 1920x1440 with 2 Axes>"
      ]
     },
     "metadata": {},
     "output_type": "display_data"
    }
   ],
   "source": [
    "fig, ax = plt.subplots(1, 2, sharey=True, dpi=300)\n",
    "fig.suptitle(\"Age of adverse events\")\n",
    "vdata[\"AGE_YRS\"].sort_values().plot(use_index=False, ax=ax[0], xlabel=\"Obervation\", ylabel=\"Age\")\n",
    "vdata[\"AGE_YRS\"].plot.hist(bins=20, orientation=\"horizontal\")\n",
    "fig.savefig(\"adverse.png\")"
   ]
  },
  {
   "cell_type": "code",
   "execution_count": 16,
   "id": "5591ce8c",
   "metadata": {},
   "outputs": [
    {
     "data": {
      "text/plain": [
       "65     12238\n",
       "50     12219\n",
       "60     11951\n",
       "51     11752\n",
       "59     11619\n",
       "       ...  \n",
       "115        6\n",
       "119        4\n",
       "106        2\n",
       "113        1\n",
       "109        1\n",
       "Name: AGE_YRS, Length: 111, dtype: int64"
      ]
     },
     "execution_count": 16,
     "metadata": {},
     "output_type": "execute_result"
    }
   ],
   "source": [
    "vdata[\"AGE_YRS\"].dropna().apply(lambda x: int(x)).value_counts()"
   ]
  },
  {
   "cell_type": "code",
   "execution_count": 17,
   "id": "a6fadfe6",
   "metadata": {},
   "outputs": [
    {
     "data": {
      "text/plain": [
       "NaN    731793\n",
       "Y       10484\n",
       "Name: DIED, dtype: int64"
      ]
     },
     "execution_count": 17,
     "metadata": {},
     "output_type": "execute_result"
    }
   ],
   "source": [
    "vdata.DIED.value_counts(dropna=False)"
   ]
  },
  {
   "cell_type": "code",
   "execution_count": 19,
   "id": "66ed4823",
   "metadata": {},
   "outputs": [
    {
     "name": "stdout",
     "output_type": "stream",
     "text": [
      "Index(['VAX_TYPE', 'VAX_MANU', 'VAX_LOT', 'VAX_DOSE_SERIES', 'VAX_ROUTE',\n",
      "       'VAX_SITE', 'VAX_NAME'],\n",
      "      dtype='object')\n",
      "(786174, 7)\n",
      "['COVID19' 'FLUC4' 'DTAPHEPBIP' 'HIBV' 'PNC13' 'RV1' 'UNK' 'FLU4' 'PPV'\n",
      " 'FLUA3' 'VARZOS' 'MMR' 'DT' 'HPV9' 'DTAP' 'MMRV' 'TDAP' 'FLUR4'\n",
      " 'DTAPIPVHIB' 'HEPA' 'MNQ' 'FLUX' 'YF' 'ANTH' 'HEP' 'VARCEL' 'RV5' 'HPV4'\n",
      " 'MENB' 'IPV' 'RAB' 'FLUA4' 'FLUN4' 'DTAPIPV' 'TYP' 'ADEN_4_7' 'CHOL'\n",
      " 'TTOX' 'FLU3' 'FLUC3' 'HEPAB' 'TD' 'EBZR' 'PNC' 'DF' 'HPVX' 'FLUX(H1N1)'\n",
      " 'RVX' 'DTP' 'MEN' 'JEV1' 'BCG' 'PER' 'SMALL' 'OPV' 'TDAPIPV' 'FLUN3'\n",
      " 'FLU(H1N1)' '6VAX-F' 'MNQHIB' 'DTPHEP' 'JEVX' 'DTPPVHBHPB' 'FLUR3' 'DTOX'\n",
      " 'MU' 'HEPATYP' 'PNC10' 'H5N1' 'COVID19-2']\n"
     ]
    }
   ],
   "source": [
    "vdata[\"is_dead\"] = (vdata.DIED == \"Y\")\n",
    "dead = vdata[vdata.is_dead]\n",
    "vax = pd.read_csv(\"2021VAERSVAX.csv\", encoding=\"iso-8859-1\").set_index(\"VAERS_ID\")\n",
    "print(vax.columns)\n",
    "print(vax.shape)\n",
    "print(vax.VAX_TYPE.unique())\n"
   ]
  },
  {
   "cell_type": "code",
   "execution_count": 20,
   "id": "1f10be01",
   "metadata": {},
   "outputs": [
    {
     "data": {
      "text/plain": [
       "VAX_TYPE\n",
       "HEPATYP         1\n",
       "H5N1            1\n",
       "TDAPIPV         1\n",
       "MNQHIB          1\n",
       "MU              1\n",
       "            ...  \n",
       "HPV9         1823\n",
       "FLU4         5405\n",
       "UNK          9647\n",
       "VARZOS      14327\n",
       "COVID19    731148\n",
       "Length: 70, dtype: int64"
      ]
     },
     "execution_count": 20,
     "metadata": {},
     "output_type": "execute_result"
    }
   ],
   "source": [
    "vax.groupby(\"VAX_TYPE\").size().sort_values()"
   ]
  },
  {
   "cell_type": "code",
   "execution_count": 22,
   "id": "61ece393",
   "metadata": {},
   "outputs": [
    {
     "data": {
      "text/plain": [
       "1215401    10\n",
       "1971984     8\n",
       "1358087     3\n",
       "1894687     3\n",
       "1894208     3\n",
       "           ..\n",
       "1241390     1\n",
       "1241391     1\n",
       "1241392     1\n",
       "1241393     1\n",
       "2580134     1\n",
       "Name: VAERS_ID, Length: 10484, dtype: int64"
      ]
     },
     "execution_count": 22,
     "metadata": {},
     "output_type": "execute_result"
    }
   ],
   "source": [
    "vax19 = vax[vax.VAX_TYPE == \"COVID19\"]\n",
    "vax19_dead = dead.join(vax19)\n",
    "vax19_dead.index.value_counts()"
   ]
  },
  {
   "cell_type": "code",
   "execution_count": 25,
   "id": "241b1d7f",
   "metadata": {},
   "outputs": [
    {
     "name": "stdout",
     "output_type": "stream",
     "text": [
      "Unknown 305 37\n",
      "EN6201 151 32\n",
      "EN6200 119 22\n",
      "EN5318 119 29\n",
      "EL9261 112 21\n",
      "EN6198 112 24\n",
      "unknown 109 21\n",
      "EM9810 101 21\n",
      "EL3248 101 18\n",
      "EN6202 98 19\n",
      "EL9269 97 19\n"
     ]
    }
   ],
   "source": [
    "baddies = vax19_dead.groupby(\"VAX_LOT\").size().sort_values(ascending=False)\n",
    "for i, (lot, cnt) in enumerate(baddies.items()):\n",
    "    print(lot, cnt, len(vax19_dead[vax19_dead.VAX_LOT == lot].groupby(\"STATE\")))\n",
    "    if i == 10:\n",
    "        break"
   ]
  },
  {
   "cell_type": "code",
   "execution_count": null,
   "id": "4452f8f5",
   "metadata": {},
   "outputs": [],
   "source": []
  }
 ],
 "metadata": {
  "kernelspec": {
   "display_name": "Python 3 (ipykernel)",
   "language": "python",
   "name": "python3"
  },
  "language_info": {
   "codemirror_mode": {
    "name": "ipython",
    "version": 3
   },
   "file_extension": ".py",
   "mimetype": "text/x-python",
   "name": "python",
   "nbconvert_exporter": "python",
   "pygments_lexer": "ipython3",
   "version": "3.10.9"
  }
 },
 "nbformat": 4,
 "nbformat_minor": 5
}
