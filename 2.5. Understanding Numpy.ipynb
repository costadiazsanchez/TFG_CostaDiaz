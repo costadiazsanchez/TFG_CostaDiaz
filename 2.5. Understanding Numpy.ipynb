{
 "cells": [
  {
   "cell_type": "code",
   "execution_count": 1,
   "id": "890bd4cd",
   "metadata": {},
   "outputs": [],
   "source": [
    "import numpy as np\n",
    "import pandas as pd\n",
    "import matplotlib.pyplot as plt\n",
    "import warnings\n",
    "warnings.filterwarnings(\"ignore\")"
   ]
  },
  {
   "cell_type": "code",
   "execution_count": 4,
   "id": "d26be777",
   "metadata": {},
   "outputs": [
    {
     "data": {
      "text/html": [
       "<div>\n",
       "<style scoped>\n",
       "    .dataframe tbody tr th:only-of-type {\n",
       "        vertical-align: middle;\n",
       "    }\n",
       "\n",
       "    .dataframe tbody tr th {\n",
       "        vertical-align: top;\n",
       "    }\n",
       "\n",
       "    .dataframe thead th {\n",
       "        text-align: right;\n",
       "    }\n",
       "</style>\n",
       "<table border=\"1\" class=\"dataframe\">\n",
       "  <thead>\n",
       "    <tr style=\"text-align: right;\">\n",
       "      <th></th>\n",
       "      <th>size</th>\n",
       "      <th>rank</th>\n",
       "    </tr>\n",
       "    <tr>\n",
       "      <th>STATE</th>\n",
       "      <th></th>\n",
       "      <th></th>\n",
       "    </tr>\n",
       "  </thead>\n",
       "  <tbody>\n",
       "    <tr>\n",
       "      <th>CA</th>\n",
       "      <td>69882</td>\n",
       "      <td>0</td>\n",
       "    </tr>\n",
       "    <tr>\n",
       "      <th>FL</th>\n",
       "      <td>41455</td>\n",
       "      <td>1</td>\n",
       "    </tr>\n",
       "    <tr>\n",
       "      <th>TX</th>\n",
       "      <td>41024</td>\n",
       "      <td>2</td>\n",
       "    </tr>\n",
       "    <tr>\n",
       "      <th>NY</th>\n",
       "      <td>38992</td>\n",
       "      <td>3</td>\n",
       "    </tr>\n",
       "    <tr>\n",
       "      <th>PA</th>\n",
       "      <td>26001</td>\n",
       "      <td>4</td>\n",
       "    </tr>\n",
       "  </tbody>\n",
       "</table>\n",
       "</div>"
      ],
      "text/plain": [
       "        size  rank\n",
       "STATE             \n",
       "CA     69882     0\n",
       "FL     41455     1\n",
       "TX     41024     2\n",
       "NY     38992     3\n",
       "PA     26001     4"
      ]
     },
     "execution_count": 4,
     "metadata": {},
     "output_type": "execute_result"
    }
   ],
   "source": [
    "# reducing data to the top 5 US states\n",
    "\n",
    "vdata = pd.read_csv(\n",
    "    \"2021VAERSDATA.csv\", encoding=\"iso-8859-1\")\n",
    "\n",
    "vdata[\"STATE\"] = vdata[\"STATE\"].str.upper()\n",
    "top_states = pd.DataFrame({\n",
    "    \"size\": vdata.groupby(\"STATE\").size().sort_values(ascending=False).head(5)}).reset_index()\n",
    "top_states[\"rank\"] = top_states.index\n",
    "top_states = top_states.set_index(\"STATE\")\n",
    "top_vdata = vdata[vdata[\"STATE\"].isin(top_states.index)]\n",
    "top_vdata[\"state_code\"] = top_vdata[\"STATE\"].apply(\n",
    "    lambda state: top_states[\"rank\"].at[state]\n",
    ").astype(np.uint8)\n",
    "top_vdata = top_vdata[top_vdata[\"AGE_YRS\"].notna()]\n",
    "top_vdata.loc[:,\"AGE_YRS\"] = top_vdata[\"AGE_YRS\"].astype(int)\n",
    "top_states"
   ]
  },
  {
   "cell_type": "code",
   "execution_count": 5,
   "id": "1125d4df",
   "metadata": {},
   "outputs": [
    {
     "data": {
      "text/plain": [
       "(numpy.ndarray, (198722,), dtype('uint8'))"
      ]
     },
     "execution_count": 5,
     "metadata": {},
     "output_type": "execute_result"
    }
   ],
   "source": [
    "#extract the two NumPy arrays that contain age and state data\n",
    "age_state = top_vdata[[\"state_code\", \"AGE_YRS\"]]\n",
    "\n",
    "age_state[\"state_code\"]\n",
    "state_code_arr = age_state[\"state_code\"].values\n",
    "type(state_code_arr), state_code_arr.shape, state_code_arr.dtype"
   ]
  },
  {
   "cell_type": "code",
   "execution_count": 6,
   "id": "d8f607a0",
   "metadata": {},
   "outputs": [
    {
     "data": {
      "text/plain": [
       "(numpy.ndarray, (198722,), dtype('int64'))"
      ]
     },
     "execution_count": 6,
     "metadata": {},
     "output_type": "execute_result"
    }
   ],
   "source": [
    "age_state[\"AGE_YRS\"]\n",
    "age_arr = age_state[\"AGE_YRS\"].values\n",
    "type(age_arr), age_arr.shape, age_arr.dtype"
   ]
  },
  {
   "cell_type": "code",
   "execution_count": 7,
   "id": "4518b039",
   "metadata": {},
   "outputs": [
    {
     "data": {
      "text/plain": [
       "109"
      ]
     },
     "execution_count": 7,
     "metadata": {},
     "output_type": "execute_result"
    }
   ],
   "source": [
    "age_arr.max()"
   ]
  },
  {
   "cell_type": "code",
   "execution_count": 8,
   "id": "12edf3d7",
   "metadata": {},
   "outputs": [
    {
     "data": {
      "text/plain": [
       "array([[ 5546, 17638, 21448, 16718,  2663,    25],\n",
       "       [ 1602,  7163, 11297, 14679,  2771,    11],\n",
       "       [ 3211, 10601, 13320,  9274,  1334,     2],\n",
       "       [ 2559,  9844, 11723,  9650,  1634,    14],\n",
       "       [ 1596,  6226,  8141,  6973,  1052,     7]], dtype=uint64)"
      ]
     },
     "execution_count": 8,
     "metadata": {},
     "output_type": "execute_result"
    }
   ],
   "source": [
    "# initialize with zeros\n",
    "age_state_mat = np.zeros((5,6), dtype=np.uint64)\n",
    "for row in age_state.itertuples():\n",
    "    age_state_mat[row.state_code, row.AGE_YRS//20] += 1\n",
    "age_state_mat\n",
    "\n",
    "# 5 rows for each state\n",
    "# 6 columns for each age group\n",
    "# all cells - same type"
   ]
  },
  {
   "cell_type": "code",
   "execution_count": 9,
   "id": "e58f4b21",
   "metadata": {},
   "outputs": [],
   "source": [
    "cal = age_state_mat[0,:] # california data\n",
    "kids = age_state_mat[:,0] # kids data"
   ]
  },
  {
   "cell_type": "code",
   "execution_count": 10,
   "id": "52f4b84b",
   "metadata": {},
   "outputs": [],
   "source": [
    "# new matrix where we have the fraction of cases per age group\n",
    "def compute_frac(arr_1d):\n",
    "    return arr_1d / arr_1d.sum()\n",
    "\n",
    "frac_age_stat_mat = np.apply_along_axis(compute_frac, 1, age_state_mat)\n",
    "# compute_frac takes a single row and returns a new row where all the elements are divided by the total sum."
   ]
  },
  {
   "cell_type": "code",
   "execution_count": 11,
   "id": "3e129021",
   "metadata": {},
   "outputs": [
    {
     "data": {
      "text/plain": [
       "array([[ 8, 27, 33, 26,  4,  0],\n",
       "       [ 4, 19, 30, 39,  7,  0],\n",
       "       [ 8, 28, 35, 24,  3,  0],\n",
       "       [ 7, 27, 33, 27,  4,  0],\n",
       "       [ 6, 25, 33, 29,  4,  0]], dtype=uint8)"
      ]
     },
     "execution_count": 11,
     "metadata": {},
     "output_type": "execute_result"
    }
   ],
   "source": [
    "#  new matrix that acts as a percentage instead of a fraction\n",
    "perc_age_stat_mat = frac_age_stat_mat * 100\n",
    "perc_age_stat_mat = perc_age_stat_mat.astype(np.uint8)\n",
    "perc_age_stat_mat"
   ]
  },
  {
   "cell_type": "code",
   "execution_count": 12,
   "id": "9386d3eb",
   "metadata": {},
   "outputs": [
    {
     "data": {
      "text/plain": [
       "array([[ 8, 27, 33, 26,  4],\n",
       "       [ 4, 19, 30, 39,  7],\n",
       "       [ 8, 28, 35, 24,  3],\n",
       "       [ 7, 27, 33, 27,  4],\n",
       "       [ 6, 25, 33, 29,  4]], dtype=uint8)"
      ]
     },
     "execution_count": 12,
     "metadata": {},
     "output_type": "execute_result"
    }
   ],
   "source": [
    "#deleting last column\n",
    "\n",
    "perc_age_stat_mat = perc_age_stat_mat[:, :5]\n",
    "perc_age_stat_mat"
   ]
  },
  {
   "cell_type": "code",
   "execution_count": 13,
   "id": "cbc64463",
   "metadata": {},
   "outputs": [
    {
     "data": {
      "image/png": "[encoded data removed]",
      "text/plain": [
       "<Figure size 640x480 with 1 Axes>"
      ]
     },
     "metadata": {},
     "output_type": "display_data"
    }
   ],
   "source": [
    "fig = plt.figure()\n",
    "ax = fig.add_subplot()\n",
    "ax.matshow(perc_age_stat_mat, cmap=plt.get_cmap(\"Greys\"))\n",
    "ax.set_yticks(range(5))\n",
    "ax.set_yticklabels(top_states.index)\n",
    "ax.set_xticks(range(6))\n",
    "ax.set_xticklabels([\"0-19\", \"20-39\", \"40-59\", \"60-79\", \"80-99\", \"100-119\"])\n",
    "fig.savefig(\"matrix.png\")"
   ]
  },
  {
   "cell_type": "code",
   "execution_count": null,
   "id": "e9d2f855",
   "metadata": {},
   "outputs": [],
   "source": []
  }
 ],
 "metadata": {
  "kernelspec": {
   "display_name": "Python 3 (ipykernel)",
   "language": "python",
   "name": "python3"
  },
  "language_info": {
   "codemirror_mode": {
    "name": "ipython",
    "version": 3
   },
   "file_extension": ".py",
   "mimetype": "text/x-python",
   "name": "python",
   "nbconvert_exporter": "python",
   "pygments_lexer": "ipython3",
   "version": "3.10.9"
  }
 },
 "nbformat": 4,
 "nbformat_minor": 5
}
