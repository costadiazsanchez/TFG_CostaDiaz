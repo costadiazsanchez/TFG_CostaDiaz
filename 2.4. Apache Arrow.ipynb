{
 "cells": [
  {
   "cell_type": "code",
   "execution_count": 1,
   "id": "5d9fdf9c",
   "metadata": {},
   "outputs": [],
   "source": [
    "import warnings\n",
    "warnings.filterwarnings(\"ignore\")"
   ]
  },
  {
   "cell_type": "code",
   "execution_count": 2,
   "id": "f338eac6",
   "metadata": {},
   "outputs": [],
   "source": [
    "import gzip\n",
    "import pandas as pd\n",
    "from pyarrow import csv\n",
    "import pyarrow.compute as pc"
   ]
  },
  {
   "cell_type": "code",
   "execution_count": 3,
   "id": "7b53e56c",
   "metadata": {},
   "outputs": [
    {
     "name": "stdout",
     "output_type": "stream",
     "text": [
      "<class 'pandas.core.frame.DataFrame'>\n",
      "RangeIndex: 742277 entries, 0 to 742276\n",
      "Data columns (total 35 columns):\n",
      " #   Column        Non-Null Count   Dtype  \n",
      "---  ------        --------------   -----  \n",
      " 0   VAERS_ID      742277 non-null  int64  \n",
      " 1   RECVDATE      742277 non-null  object \n",
      " 2   STATE         637927 non-null  object \n",
      " 3   AGE_YRS       660716 non-null  float64\n",
      " 4   CAGE_YR       592537 non-null  float64\n",
      " 5   CAGE_MO       4188 non-null    float64\n",
      " 6   SEX           742277 non-null  object \n",
      " 7   RPT_DATE      767 non-null     object \n",
      " 8   SYMPTOM_TEXT  741985 non-null  object \n",
      " 9   DIED          10484 non-null   object \n",
      " 10  DATEDIED      9217 non-null    object \n",
      " 11  L_THREAT      11085 non-null   object \n",
      " 12  ER_VISIT      118 non-null     object \n",
      " 13  HOSPITAL      47281 non-null   object \n",
      " 14  HOSPDAYS      31218 non-null   float64\n",
      " 15  X_STAY        378 non-null     object \n",
      " 16  DISABLE       11921 non-null   object \n",
      " 17  RECOVD        669866 non-null  object \n",
      " 18  VAX_DATE      685784 non-null  object \n",
      " 19  ONSET_DATE    675801 non-null  object \n",
      " 20  NUMDAYS       647394 non-null  float64\n",
      " 21  LAB_DATA      280047 non-null  object \n",
      " 22  V_ADMINBY     742277 non-null  object \n",
      " 23  V_FUNDBY      832 non-null     object \n",
      " 24  OTHER_MEDS    413119 non-null  object \n",
      " 25  CUR_ILL       327239 non-null  object \n",
      " 26  HISTORY       438593 non-null  object \n",
      " 27  PRIOR_VAX     36062 non-null   object \n",
      " 28  SPLTTYPE      221641 non-null  object \n",
      " 29  FORM_VERS     742277 non-null  int64  \n",
      " 30  TODAYS_DATE   737041 non-null  object \n",
      " 31  BIRTH_DEFECT  460 non-null     object \n",
      " 32  OFC_VISIT     143061 non-null  object \n",
      " 33  ER_ED_VISIT   88842 non-null   object \n",
      " 34  ALLERGIES     364767 non-null  object \n",
      "dtypes: float64(5), int64(2), object(28)\n",
      "memory usage: 1.4 GB\n"
     ]
    }
   ],
   "source": [
    "vdata_pd = pd.read_csv(\"2021VAERSDATA.csv\", encoding=\"iso-8859-1\")\n",
    "columns = list(vdata_pd.columns)\n",
    "vdata_pd.info(memory_usage=\"deep\")"
   ]
  },
  {
   "cell_type": "code",
   "execution_count": 4,
   "id": "1e9c5eec",
   "metadata": {},
   "outputs": [
    {
     "name": "stdout",
     "output_type": "stream",
     "text": [
      "Total 690 MB\n"
     ]
    }
   ],
   "source": [
    "vdata_arrow = csv.read_csv(\"2021VAERSDATA.csv\")\n",
    "tot_bytes = sum([\n",
    "    vdata_arrow[name].nbytes\n",
    "    for name in vdata_arrow.column_names])\n",
    "print(f\"Total {tot_bytes // (1024 ** 2)} MB\")\n",
    "\n",
    "# this prints the size in Arrow (less than half the memory)"
   ]
  },
  {
   "cell_type": "code",
   "execution_count": 5,
   "id": "57cac78f",
   "metadata": {},
   "outputs": [
    {
     "name": "stdout",
     "output_type": "stream",
     "text": [
      "VAERS_ID int64 5 int64 5\n",
      "RECVDATE string 9 object 47\n",
      "STATE string 4 object 39\n",
      "AGE_YRS double 5 float64 5\n",
      "CAGE_YR int64 5 float64 5\n",
      "CAGE_MO double 5 float64 5\n",
      "SEX string 3 object 41\n",
      "RPT_DATE string 2 object 22\n",
      "SYMPTOM_TEXT binary 458 object 496\n",
      "DIED string 2 object 22\n",
      "DATEDIED string 2 object 22\n",
      "L_THREAT string 2 object 22\n",
      "ER_VISIT string 2 object 22\n",
      "HOSPITAL string 2 object 23\n",
      "HOSPDAYS int64 5 float64 5\n",
      "X_STAY string 2 object 22\n",
      "DISABLE string 2 object 22\n",
      "RECOVD string 3 object 39\n",
      "VAX_DATE string 9 object 45\n",
      "ONSET_DATE string 9 object 45\n",
      "NUMDAYS int64 5 float64 5\n",
      "LAB_DATA binary 27 object 54\n",
      "V_ADMINBY string 4 object 42\n",
      "V_FUNDBY string 2 object 22\n",
      "OTHER_MEDS binary 22 object 51\n",
      "CUR_ILL binary 8 object 36\n",
      "HISTORY binary 21 object 52\n",
      "PRIOR_VAX binary 4 object 25\n",
      "SPLTTYPE string 7 object 32\n",
      "FORM_VERS int64 5 int64 5\n",
      "TODAYS_DATE string 9 object 47\n",
      "BIRTH_DEFECT string 2 object 22\n",
      "OFC_VISIT string 2 object 26\n",
      "ER_ED_VISIT string 2 object 24\n",
      "ALLERGIES binary 9 object 38\n"
     ]
    }
   ],
   "source": [
    "for name in vdata_arrow.column_names:\n",
    "    arr_bytes = vdata_arrow[name].nbytes\n",
    "    arr_type = vdata_arrow[name].type\n",
    "    pd_bytes = vdata_pd[name].memory_usage(index=False, deep=True)\n",
    "    pd_type = vdata_pd[name].dtype\n",
    "    print(\n",
    "        name,\n",
    "        arr_type, arr_bytes // (1024 ** 2),\n",
    "        pd_type, pd_bytes // (1024 ** 2),)\n",
    "\n",
    "# Arrow is more specific with type inference and is one of the main reasons why memory usage is lower."
   ]
  },
  {
   "cell_type": "code",
   "execution_count": 6,
   "id": "ef6f716d",
   "metadata": {},
   "outputs": [
    {
     "name": "stdout",
     "output_type": "stream",
     "text": [
      "7.57 s ± 39.6 ms per loop (mean ± std. dev. of 7 runs, 1 loop each)\n",
      "645 ms ± 109 ms per loop (mean ± std. dev. of 7 runs, 1 loop each)\n"
     ]
    }
   ],
   "source": [
    "# time performance comparison\n",
    "\n",
    "%timeit pd.read_csv(\"2021VAERSDATA.csv\", encoding=\"iso-8859-1\")\n",
    "%timeit csv.read_csv(\"2021VAERSDATA.csv\")"
   ]
  },
  {
   "cell_type": "code",
   "execution_count": 7,
   "id": "a63e7acd",
   "metadata": {},
   "outputs": [
    {
     "name": "stdout",
     "output_type": "stream",
     "text": [
      "<class 'pandas.core.frame.DataFrame'>\n",
      "RangeIndex: 742277 entries, 0 to 742276\n",
      "Data columns (total 34 columns):\n",
      " #   Column        Non-Null Count   Dtype  \n",
      "---  ------        --------------   -----  \n",
      " 0   VAERS_ID      742277 non-null  int64  \n",
      " 1   RECVDATE      742277 non-null  object \n",
      " 2   STATE         637927 non-null  object \n",
      " 3   AGE_YRS       660716 non-null  float64\n",
      " 4   CAGE_YR       592537 non-null  float64\n",
      " 5   CAGE_MO       4188 non-null    float64\n",
      " 6   SEX           742277 non-null  object \n",
      " 7   RPT_DATE      767 non-null     object \n",
      " 8   DIED          10484 non-null   object \n",
      " 9   DATEDIED      9217 non-null    object \n",
      " 10  L_THREAT      11085 non-null   object \n",
      " 11  ER_VISIT      118 non-null     object \n",
      " 12  HOSPITAL      47281 non-null   object \n",
      " 13  HOSPDAYS      31218 non-null   float64\n",
      " 14  X_STAY        378 non-null     object \n",
      " 15  DISABLE       11921 non-null   object \n",
      " 16  RECOVD        669866 non-null  object \n",
      " 17  VAX_DATE      685784 non-null  object \n",
      " 18  ONSET_DATE    675801 non-null  object \n",
      " 19  NUMDAYS       647394 non-null  float64\n",
      " 20  LAB_DATA      280047 non-null  object \n",
      " 21  V_ADMINBY     742277 non-null  object \n",
      " 22  V_FUNDBY      832 non-null     object \n",
      " 23  OTHER_MEDS    413119 non-null  object \n",
      " 24  CUR_ILL       327239 non-null  object \n",
      " 25  HISTORY       438593 non-null  object \n",
      " 26  PRIOR_VAX     36062 non-null   object \n",
      " 27  SPLTTYPE      221641 non-null  object \n",
      " 28  FORM_VERS     742277 non-null  int64  \n",
      " 29  TODAYS_DATE   737041 non-null  object \n",
      " 30  BIRTH_DEFECT  460 non-null     object \n",
      " 31  OFC_VISIT     143061 non-null  object \n",
      " 32  ER_ED_VISIT   88842 non-null   object \n",
      " 33  ALLERGIES     364767 non-null  object \n",
      "dtypes: float64(5), int64(2), object(27)\n",
      "memory usage: 957.2 MB\n"
     ]
    }
   ],
   "source": [
    "# without SYMPTOM_TEXT\n",
    "\n",
    "vdata_pd = pd.read_csv(\"2021VAERSDATA.csv\", encoding=\"iso-8859-1\", usecols=lambda x: x != \"SYMPTOM_TEXT\")\n",
    "vdata_pd.info(memory_usage=\"deep\")"
   ]
  },
  {
   "cell_type": "code",
   "execution_count": 8,
   "id": "dc919959",
   "metadata": {},
   "outputs": [],
   "source": [
    "columns.remove(\"SYMPTOM_TEXT\")"
   ]
  },
  {
   "cell_type": "code",
   "execution_count": 9,
   "id": "5d3d0ea6",
   "metadata": {},
   "outputs": [
    {
     "data": {
      "text/plain": [
       "242344236"
      ]
     },
     "execution_count": 9,
     "metadata": {},
     "output_type": "execute_result"
    }
   ],
   "source": [
    "vdata_arrow = csv.read_csv(\n",
    "    \"2021VAERSDATA.csv\",\n",
    "     convert_options=csv.ConvertOptions(include_columns=columns))\n",
    "vdata_arrow.nbytes"
   ]
  },
  {
   "cell_type": "code",
   "execution_count": 10,
   "id": "39ab8b17",
   "metadata": {},
   "outputs": [
    {
     "name": "stdout",
     "output_type": "stream",
     "text": [
      "5.26 s ± 409 ms per loop (mean ± std. dev. of 7 runs, 1 loop each)\n",
      "679 ms ± 54.9 ms per loop (mean ± std. dev. of 7 runs, 1 loop each)\n"
     ]
    }
   ],
   "source": [
    "# time performance comparison without SYMPTOM_TEXT\n",
    "%timeit pd.read_csv(\"2021VAERSDATA.csv\", encoding=\"iso-8859-1\", usecols=lambda x: x != \"SYMPTOM_TEXT\")\n",
    "%timeit csv.read_csv(\"2021VAERSDATA.csv\", convert_options=csv.ConvertOptions(include_columns=columns))"
   ]
  },
  {
   "cell_type": "code",
   "execution_count": 11,
   "id": "f15c0510",
   "metadata": {},
   "outputs": [
    {
     "name": "stdout",
     "output_type": "stream",
     "text": [
      "<class 'pandas.core.frame.DataFrame'>\n",
      "RangeIndex: 742277 entries, 0 to 742276\n",
      "Data columns (total 34 columns):\n",
      " #   Column        Non-Null Count   Dtype  \n",
      "---  ------        --------------   -----  \n",
      " 0   VAERS_ID      742277 non-null  int64  \n",
      " 1   RECVDATE      742277 non-null  object \n",
      " 2   STATE         742277 non-null  object \n",
      " 3   AGE_YRS       660716 non-null  float64\n",
      " 4   CAGE_YR       592537 non-null  float64\n",
      " 5   CAGE_MO       4188 non-null    float64\n",
      " 6   SEX           742277 non-null  object \n",
      " 7   RPT_DATE      742277 non-null  object \n",
      " 8   DIED          742277 non-null  object \n",
      " 9   DATEDIED      742277 non-null  object \n",
      " 10  L_THREAT      742277 non-null  object \n",
      " 11  ER_VISIT      742277 non-null  object \n",
      " 12  HOSPITAL      742277 non-null  object \n",
      " 13  HOSPDAYS      31218 non-null   float64\n",
      " 14  X_STAY        742277 non-null  object \n",
      " 15  DISABLE       742277 non-null  object \n",
      " 16  RECOVD        742277 non-null  object \n",
      " 17  VAX_DATE      742277 non-null  object \n",
      " 18  ONSET_DATE    742277 non-null  object \n",
      " 19  NUMDAYS       647394 non-null  float64\n",
      " 20  LAB_DATA      742277 non-null  object \n",
      " 21  V_ADMINBY     742277 non-null  object \n",
      " 22  V_FUNDBY      742277 non-null  object \n",
      " 23  OTHER_MEDS    742277 non-null  object \n",
      " 24  CUR_ILL       742277 non-null  object \n",
      " 25  HISTORY       742277 non-null  object \n",
      " 26  PRIOR_VAX     742277 non-null  object \n",
      " 27  SPLTTYPE      742277 non-null  object \n",
      " 28  FORM_VERS     742277 non-null  int64  \n",
      " 29  TODAYS_DATE   742277 non-null  object \n",
      " 30  BIRTH_DEFECT  742277 non-null  object \n",
      " 31  OFC_VISIT     742277 non-null  object \n",
      " 32  ER_ED_VISIT   742277 non-null  object \n",
      " 33  ALLERGIES     742277 non-null  object \n",
      "dtypes: float64(5), int64(2), object(27)\n",
      "memory usage: 1.1 GB\n"
     ]
    }
   ],
   "source": [
    "# use Arrow to load data into pandas\n",
    "vdata = vdata_arrow.to_pandas()\n",
    "vdata.info(memory_usage=\"deep\")"
   ]
  },
  {
   "cell_type": "code",
   "execution_count": 12,
   "id": "0b5435fd",
   "metadata": {},
   "outputs": [],
   "source": [
    "# Arrow can self-destruct its representation while creating the pandas version\n",
    "vdata = vdata_arrow.to_pandas(self_destruct=True)"
   ]
  },
  {
   "cell_type": "code",
   "execution_count": null,
   "id": "a2b701aa",
   "metadata": {},
   "outputs": [],
   "source": []
  },
  {
   "cell_type": "code",
   "execution_count": null,
   "id": "f8c0e0f1",
   "metadata": {},
   "outputs": [],
   "source": []
  }
 ],
 "metadata": {
  "kernelspec": {
   "display_name": "Python 3 (ipykernel)",
   "language": "python",
   "name": "python3"
  },
  "language_info": {
   "codemirror_mode": {
    "name": "ipython",
    "version": 3
   },
   "file_extension": ".py",
   "mimetype": "text/x-python",
   "name": "python",
   "nbconvert_exporter": "python",
   "pygments_lexer": "ipython3",
   "version": "3.10.9"
  }
 },
 "nbformat": 4,
 "nbformat_minor": 5
}
